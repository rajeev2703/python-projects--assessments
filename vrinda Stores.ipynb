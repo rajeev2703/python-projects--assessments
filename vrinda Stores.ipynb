{
 "cells": [
  {
   "cell_type": "code",
   "execution_count": 1,
   "id": "0f461a4f",
   "metadata": {},
   "outputs": [],
   "source": [
    "import numpy as np\n",
    "import pandas as pd\n",
    "import matplotlib.pyplot as plt\n",
    "import seaborn as sns\n",
    "import plotly as py"
   ]
  },
  {
   "cell_type": "code",
   "execution_count": 2,
   "id": "6860990a",
   "metadata": {},
   "outputs": [],
   "source": [
    "df = pd.read_excel(r'C:\\Users\\PC-VAIO\\Desktop\\CoachX\\Python\\project\\Vrinda Stores\\Vrinda Store Data Analysis.xlsx')"
   ]
  },
  {
   "cell_type": "code",
   "execution_count": 3,
   "id": "8cb12f93",
   "metadata": {},
   "outputs": [
    {
     "data": {
      "text/html": [
       "<div>\n",
       "<style scoped>\n",
       "    .dataframe tbody tr th:only-of-type {\n",
       "        vertical-align: middle;\n",
       "    }\n",
       "\n",
       "    .dataframe tbody tr th {\n",
       "        vertical-align: top;\n",
       "    }\n",
       "\n",
       "    .dataframe thead th {\n",
       "        text-align: right;\n",
       "    }\n",
       "</style>\n",
       "<table border=\"1\" class=\"dataframe\">\n",
       "  <thead>\n",
       "    <tr style=\"text-align: right;\">\n",
       "      <th></th>\n",
       "      <th>index</th>\n",
       "      <th>Order ID</th>\n",
       "      <th>Cust ID</th>\n",
       "      <th>Gender</th>\n",
       "      <th>Age</th>\n",
       "      <th>Date</th>\n",
       "      <th>Status</th>\n",
       "      <th>Channel</th>\n",
       "      <th>SKU</th>\n",
       "      <th>Category</th>\n",
       "      <th>Size</th>\n",
       "      <th>Qty</th>\n",
       "      <th>currency</th>\n",
       "      <th>Amount</th>\n",
       "      <th>ship-city</th>\n",
       "      <th>ship-state</th>\n",
       "      <th>ship-postal-code</th>\n",
       "      <th>ship-country</th>\n",
       "      <th>B2B</th>\n",
       "    </tr>\n",
       "  </thead>\n",
       "  <tbody>\n",
       "    <tr>\n",
       "      <th>0</th>\n",
       "      <td>1</td>\n",
       "      <td>171-1029312-3038738</td>\n",
       "      <td>1029312</td>\n",
       "      <td>Women</td>\n",
       "      <td>44</td>\n",
       "      <td>2022-12-04</td>\n",
       "      <td>Delivered</td>\n",
       "      <td>Myntra</td>\n",
       "      <td>JNE1233-BLUE-KR-031-XXL</td>\n",
       "      <td>kurta</td>\n",
       "      <td>XXL</td>\n",
       "      <td>1</td>\n",
       "      <td>INR</td>\n",
       "      <td>376</td>\n",
       "      <td>MOHALI</td>\n",
       "      <td>PUNJAB</td>\n",
       "      <td>140301</td>\n",
       "      <td>IN</td>\n",
       "      <td>False</td>\n",
       "    </tr>\n",
       "    <tr>\n",
       "      <th>1</th>\n",
       "      <td>2</td>\n",
       "      <td>405-2183842-2225946</td>\n",
       "      <td>2183842</td>\n",
       "      <td>Women</td>\n",
       "      <td>29</td>\n",
       "      <td>2022-12-04</td>\n",
       "      <td>Delivered</td>\n",
       "      <td>Ajio</td>\n",
       "      <td>SET414-KR-NP-L</td>\n",
       "      <td>Set</td>\n",
       "      <td>L</td>\n",
       "      <td>1</td>\n",
       "      <td>INR</td>\n",
       "      <td>1449</td>\n",
       "      <td>GURUGRAM</td>\n",
       "      <td>HARYANA</td>\n",
       "      <td>122002</td>\n",
       "      <td>IN</td>\n",
       "      <td>False</td>\n",
       "    </tr>\n",
       "    <tr>\n",
       "      <th>2</th>\n",
       "      <td>3</td>\n",
       "      <td>171-1641533-8921966</td>\n",
       "      <td>1641533</td>\n",
       "      <td>Women</td>\n",
       "      <td>67</td>\n",
       "      <td>2022-12-04</td>\n",
       "      <td>Delivered</td>\n",
       "      <td>Myntra</td>\n",
       "      <td>SET261-KR-PP-S</td>\n",
       "      <td>Set</td>\n",
       "      <td>S</td>\n",
       "      <td>1</td>\n",
       "      <td>INR</td>\n",
       "      <td>453</td>\n",
       "      <td>KOLKATA</td>\n",
       "      <td>WEST BENGAL</td>\n",
       "      <td>700029</td>\n",
       "      <td>IN</td>\n",
       "      <td>False</td>\n",
       "    </tr>\n",
       "    <tr>\n",
       "      <th>3</th>\n",
       "      <td>4</td>\n",
       "      <td>404-7490807-6300351</td>\n",
       "      <td>7490807</td>\n",
       "      <td>Women</td>\n",
       "      <td>20</td>\n",
       "      <td>2022-12-04</td>\n",
       "      <td>Delivered</td>\n",
       "      <td>Amazon</td>\n",
       "      <td>SET110-KR-PP-M</td>\n",
       "      <td>Set</td>\n",
       "      <td>M</td>\n",
       "      <td>1</td>\n",
       "      <td>INR</td>\n",
       "      <td>729</td>\n",
       "      <td>THANJAVUR</td>\n",
       "      <td>TAMIL NADU</td>\n",
       "      <td>613007</td>\n",
       "      <td>IN</td>\n",
       "      <td>False</td>\n",
       "    </tr>\n",
       "    <tr>\n",
       "      <th>4</th>\n",
       "      <td>5</td>\n",
       "      <td>403-9293516-4577154</td>\n",
       "      <td>9293516</td>\n",
       "      <td>Women</td>\n",
       "      <td>62</td>\n",
       "      <td>2022-12-04</td>\n",
       "      <td>Delivered</td>\n",
       "      <td>Myntra</td>\n",
       "      <td>JNE2294-KR-A-XXL</td>\n",
       "      <td>kurta</td>\n",
       "      <td>XXL</td>\n",
       "      <td>1</td>\n",
       "      <td>INR</td>\n",
       "      <td>544</td>\n",
       "      <td>GURUGRAM</td>\n",
       "      <td>HARYANA</td>\n",
       "      <td>122001</td>\n",
       "      <td>IN</td>\n",
       "      <td>False</td>\n",
       "    </tr>\n",
       "  </tbody>\n",
       "</table>\n",
       "</div>"
      ],
      "text/plain": [
       "   index             Order ID  Cust ID Gender  Age       Date     Status  \\\n",
       "0      1  171-1029312-3038738  1029312  Women   44 2022-12-04  Delivered   \n",
       "1      2  405-2183842-2225946  2183842  Women   29 2022-12-04  Delivered   \n",
       "2      3  171-1641533-8921966  1641533  Women   67 2022-12-04  Delivered   \n",
       "3      4  404-7490807-6300351  7490807  Women   20 2022-12-04  Delivered   \n",
       "4      5  403-9293516-4577154  9293516  Women   62 2022-12-04  Delivered   \n",
       "\n",
       "  Channel                       SKU Category Size Qty currency  Amount  \\\n",
       "0   Myntra  JNE1233-BLUE-KR-031-XXL    kurta  XXL   1      INR     376   \n",
       "1     Ajio           SET414-KR-NP-L      Set    L   1      INR    1449   \n",
       "2   Myntra           SET261-KR-PP-S      Set    S   1      INR     453   \n",
       "3   Amazon           SET110-KR-PP-M      Set    M   1      INR     729   \n",
       "4   Myntra         JNE2294-KR-A-XXL    kurta  XXL   1      INR     544   \n",
       "\n",
       "   ship-city   ship-state  ship-postal-code ship-country    B2B  \n",
       "0     MOHALI       PUNJAB            140301           IN  False  \n",
       "1   GURUGRAM      HARYANA            122002           IN  False  \n",
       "2    KOLKATA  WEST BENGAL            700029           IN  False  \n",
       "3  THANJAVUR   TAMIL NADU            613007           IN  False  \n",
       "4   GURUGRAM      HARYANA            122001           IN  False  "
      ]
     },
     "execution_count": 3,
     "metadata": {},
     "output_type": "execute_result"
    }
   ],
   "source": [
    "df.head()"
   ]
  },
  {
   "cell_type": "code",
   "execution_count": 4,
   "id": "a2fa05bc",
   "metadata": {},
   "outputs": [],
   "source": [
    "a=df.shape"
   ]
  },
  {
   "cell_type": "code",
   "execution_count": 5,
   "id": "d9e82633",
   "metadata": {},
   "outputs": [
    {
     "name": "stdout",
     "output_type": "stream",
     "text": [
      "No of rows  31047\n",
      "No of columns  19\n"
     ]
    }
   ],
   "source": [
    "print('No of rows ', a[0])\n",
    "print('No of columns ', a[1])"
   ]
  },
  {
   "cell_type": "code",
   "execution_count": 6,
   "id": "658db9b4",
   "metadata": {},
   "outputs": [
    {
     "name": "stdout",
     "output_type": "stream",
     "text": [
      "<class 'pandas.core.frame.DataFrame'>\n",
      "RangeIndex: 31047 entries, 0 to 31046\n",
      "Data columns (total 19 columns):\n",
      " #   Column            Non-Null Count  Dtype         \n",
      "---  ------            --------------  -----         \n",
      " 0   index             31047 non-null  int64         \n",
      " 1   Order ID          31047 non-null  object        \n",
      " 2   Cust ID           31047 non-null  int64         \n",
      " 3   Gender            31047 non-null  object        \n",
      " 4   Age               31047 non-null  int64         \n",
      " 5   Date              31047 non-null  datetime64[ns]\n",
      " 6   Status            31047 non-null  object        \n",
      " 7   Channel           31047 non-null  object        \n",
      " 8   SKU               31047 non-null  object        \n",
      " 9   Category          31047 non-null  object        \n",
      " 10  Size              31047 non-null  object        \n",
      " 11  Qty               31047 non-null  object        \n",
      " 12  currency          31047 non-null  object        \n",
      " 13  Amount            31047 non-null  int64         \n",
      " 14  ship-city         31047 non-null  object        \n",
      " 15  ship-state        31047 non-null  object        \n",
      " 16  ship-postal-code  31047 non-null  int64         \n",
      " 17  ship-country      31047 non-null  object        \n",
      " 18  B2B               31047 non-null  bool          \n",
      "dtypes: bool(1), datetime64[ns](1), int64(5), object(12)\n",
      "memory usage: 4.3+ MB\n"
     ]
    }
   ],
   "source": [
    "df.info()"
   ]
  },
  {
   "cell_type": "code",
   "execution_count": 7,
   "id": "87589883",
   "metadata": {},
   "outputs": [
    {
     "data": {
      "text/plain": [
       "index               0\n",
       "Order ID            0\n",
       "Cust ID             0\n",
       "Gender              0\n",
       "Age                 0\n",
       "Date                0\n",
       "Status              0\n",
       "Channel             0\n",
       "SKU                 0\n",
       "Category            0\n",
       "Size                0\n",
       "Qty                 0\n",
       "currency            0\n",
       "Amount              0\n",
       "ship-city           0\n",
       "ship-state          0\n",
       "ship-postal-code    0\n",
       "ship-country        0\n",
       "B2B                 0\n",
       "dtype: int64"
      ]
     },
     "execution_count": 7,
     "metadata": {},
     "output_type": "execute_result"
    }
   ],
   "source": [
    "df.isnull().sum()"
   ]
  },
  {
   "cell_type": "code",
   "execution_count": 8,
   "id": "307a8552",
   "metadata": {},
   "outputs": [
    {
     "data": {
      "text/plain": [
       "0"
      ]
     },
     "execution_count": 8,
     "metadata": {},
     "output_type": "execute_result"
    }
   ],
   "source": [
    "df.duplicated().sum()"
   ]
  },
  {
   "cell_type": "code",
   "execution_count": 9,
   "id": "d0e39405",
   "metadata": {},
   "outputs": [
    {
     "data": {
      "text/html": [
       "<div>\n",
       "<style scoped>\n",
       "    .dataframe tbody tr th:only-of-type {\n",
       "        vertical-align: middle;\n",
       "    }\n",
       "\n",
       "    .dataframe tbody tr th {\n",
       "        vertical-align: top;\n",
       "    }\n",
       "\n",
       "    .dataframe thead th {\n",
       "        text-align: right;\n",
       "    }\n",
       "</style>\n",
       "<table border=\"1\" class=\"dataframe\">\n",
       "  <thead>\n",
       "    <tr style=\"text-align: right;\">\n",
       "      <th></th>\n",
       "      <th>index</th>\n",
       "      <th>Cust ID</th>\n",
       "      <th>Age</th>\n",
       "      <th>Amount</th>\n",
       "      <th>ship-postal-code</th>\n",
       "    </tr>\n",
       "  </thead>\n",
       "  <tbody>\n",
       "    <tr>\n",
       "      <th>count</th>\n",
       "      <td>31047.00000</td>\n",
       "      <td>3.104700e+04</td>\n",
       "      <td>31047.000000</td>\n",
       "      <td>31047.000000</td>\n",
       "      <td>31047.000000</td>\n",
       "    </tr>\n",
       "    <tr>\n",
       "      <th>mean</th>\n",
       "      <td>15524.00000</td>\n",
       "      <td>4.936824e+06</td>\n",
       "      <td>39.496570</td>\n",
       "      <td>682.074822</td>\n",
       "      <td>460474.587206</td>\n",
       "    </tr>\n",
       "    <tr>\n",
       "      <th>std</th>\n",
       "      <td>8962.64124</td>\n",
       "      <td>2.900678e+06</td>\n",
       "      <td>15.117233</td>\n",
       "      <td>268.582173</td>\n",
       "      <td>198116.733009</td>\n",
       "    </tr>\n",
       "    <tr>\n",
       "      <th>min</th>\n",
       "      <td>1.00000</td>\n",
       "      <td>8.950000e+02</td>\n",
       "      <td>18.000000</td>\n",
       "      <td>229.000000</td>\n",
       "      <td>110001.000000</td>\n",
       "    </tr>\n",
       "    <tr>\n",
       "      <th>25%</th>\n",
       "      <td>7762.50000</td>\n",
       "      <td>2.416471e+06</td>\n",
       "      <td>28.000000</td>\n",
       "      <td>486.000000</td>\n",
       "      <td>313001.000000</td>\n",
       "    </tr>\n",
       "    <tr>\n",
       "      <th>50%</th>\n",
       "      <td>15524.00000</td>\n",
       "      <td>4.909885e+06</td>\n",
       "      <td>37.000000</td>\n",
       "      <td>646.000000</td>\n",
       "      <td>500028.000000</td>\n",
       "    </tr>\n",
       "    <tr>\n",
       "      <th>75%</th>\n",
       "      <td>23285.50000</td>\n",
       "      <td>7.454182e+06</td>\n",
       "      <td>47.000000</td>\n",
       "      <td>794.000000</td>\n",
       "      <td>600040.000000</td>\n",
       "    </tr>\n",
       "    <tr>\n",
       "      <th>max</th>\n",
       "      <td>31047.00000</td>\n",
       "      <td>9.999233e+06</td>\n",
       "      <td>78.000000</td>\n",
       "      <td>3036.000000</td>\n",
       "      <td>855117.000000</td>\n",
       "    </tr>\n",
       "  </tbody>\n",
       "</table>\n",
       "</div>"
      ],
      "text/plain": [
       "             index       Cust ID           Age        Amount  ship-postal-code\n",
       "count  31047.00000  3.104700e+04  31047.000000  31047.000000      31047.000000\n",
       "mean   15524.00000  4.936824e+06     39.496570    682.074822     460474.587206\n",
       "std     8962.64124  2.900678e+06     15.117233    268.582173     198116.733009\n",
       "min        1.00000  8.950000e+02     18.000000    229.000000     110001.000000\n",
       "25%     7762.50000  2.416471e+06     28.000000    486.000000     313001.000000\n",
       "50%    15524.00000  4.909885e+06     37.000000    646.000000     500028.000000\n",
       "75%    23285.50000  7.454182e+06     47.000000    794.000000     600040.000000\n",
       "max    31047.00000  9.999233e+06     78.000000   3036.000000     855117.000000"
      ]
     },
     "execution_count": 9,
     "metadata": {},
     "output_type": "execute_result"
    }
   ],
   "source": [
    "df.describe()"
   ]
  },
  {
   "cell_type": "markdown",
   "id": "527c2e17",
   "metadata": {},
   "source": []
  },
  {
   "cell_type": "code",
   "execution_count": 10,
   "id": "cc41761d",
   "metadata": {},
   "outputs": [
    {
     "data": {
      "text/plain": [
       "Index(['index', 'Order ID', 'Cust ID', 'Gender', 'Age', 'Date', 'Status',\n",
       "       'Channel ', 'SKU', 'Category', 'Size', 'Qty', 'currency', 'Amount',\n",
       "       'ship-city', 'ship-state', 'ship-postal-code', 'ship-country', 'B2B'],\n",
       "      dtype='object')"
      ]
     },
     "execution_count": 10,
     "metadata": {},
     "output_type": "execute_result"
    }
   ],
   "source": [
    "df.columns\n"
   ]
  },
  {
   "cell_type": "code",
   "execution_count": 11,
   "id": "db1c212d",
   "metadata": {},
   "outputs": [],
   "source": [
    "df.drop(columns=['Order ID','SKU','currency'], axis =1, inplace = True)"
   ]
  },
  {
   "cell_type": "code",
   "execution_count": 12,
   "id": "081b16b8",
   "metadata": {},
   "outputs": [
    {
     "data": {
      "text/plain": [
       "Women    21479\n",
       "Men       9452\n",
       "W           74\n",
       "M           42\n",
       "Name: Gender, dtype: int64"
      ]
     },
     "execution_count": 12,
     "metadata": {},
     "output_type": "execute_result"
    }
   ],
   "source": [
    "df['Gender'].value_counts()"
   ]
  },
  {
   "cell_type": "code",
   "execution_count": 13,
   "id": "d76c5431",
   "metadata": {},
   "outputs": [],
   "source": [
    "df['Gender'].replace({'W':'Women','M':'Men'}, inplace=True)"
   ]
  },
  {
   "cell_type": "code",
   "execution_count": 14,
   "id": "95f34a74",
   "metadata": {},
   "outputs": [],
   "source": [
    "df['Qty'].replace({'One':1, 'Two':2}, inplace=True)"
   ]
  },
  {
   "cell_type": "code",
   "execution_count": 15,
   "id": "c579a99c",
   "metadata": {},
   "outputs": [
    {
     "data": {
      "text/plain": [
       "array([1, 2, 4, 3, 5], dtype=int64)"
      ]
     },
     "execution_count": 15,
     "metadata": {},
     "output_type": "execute_result"
    }
   ],
   "source": [
    "df['Qty'].unique()"
   ]
  },
  {
   "cell_type": "code",
   "execution_count": 16,
   "id": "c7245f7e",
   "metadata": {},
   "outputs": [
    {
     "name": "stdout",
     "output_type": "stream",
     "text": [
      "<class 'pandas.core.series.Series'>\n",
      "RangeIndex: 31047 entries, 0 to 31046\n",
      "Series name: Qty\n",
      "Non-Null Count  Dtype\n",
      "--------------  -----\n",
      "31047 non-null  int64\n",
      "dtypes: int64(1)\n",
      "memory usage: 242.7 KB\n"
     ]
    }
   ],
   "source": [
    "df['Qty'].info()"
   ]
  },
  {
   "cell_type": "code",
   "execution_count": 17,
   "id": "70cd7201",
   "metadata": {},
   "outputs": [],
   "source": [
    "df['Qty'] = df['Qty'].astype(int)"
   ]
  },
  {
   "cell_type": "code",
   "execution_count": 18,
   "id": "cbadcb57",
   "metadata": {},
   "outputs": [
    {
     "data": {
      "text/html": [
       "<div>\n",
       "<style scoped>\n",
       "    .dataframe tbody tr th:only-of-type {\n",
       "        vertical-align: middle;\n",
       "    }\n",
       "\n",
       "    .dataframe tbody tr th {\n",
       "        vertical-align: top;\n",
       "    }\n",
       "\n",
       "    .dataframe thead th {\n",
       "        text-align: right;\n",
       "    }\n",
       "</style>\n",
       "<table border=\"1\" class=\"dataframe\">\n",
       "  <thead>\n",
       "    <tr style=\"text-align: right;\">\n",
       "      <th></th>\n",
       "      <th>index</th>\n",
       "      <th>Cust ID</th>\n",
       "      <th>Gender</th>\n",
       "      <th>Age</th>\n",
       "      <th>Date</th>\n",
       "      <th>Status</th>\n",
       "      <th>Channel</th>\n",
       "      <th>Category</th>\n",
       "      <th>Size</th>\n",
       "      <th>Qty</th>\n",
       "      <th>Amount</th>\n",
       "      <th>ship-city</th>\n",
       "      <th>ship-state</th>\n",
       "      <th>ship-postal-code</th>\n",
       "      <th>ship-country</th>\n",
       "      <th>B2B</th>\n",
       "    </tr>\n",
       "  </thead>\n",
       "  <tbody>\n",
       "    <tr>\n",
       "      <th>0</th>\n",
       "      <td>1</td>\n",
       "      <td>1029312</td>\n",
       "      <td>Women</td>\n",
       "      <td>44</td>\n",
       "      <td>2022-12-04</td>\n",
       "      <td>Delivered</td>\n",
       "      <td>Myntra</td>\n",
       "      <td>kurta</td>\n",
       "      <td>XXL</td>\n",
       "      <td>1</td>\n",
       "      <td>376</td>\n",
       "      <td>MOHALI</td>\n",
       "      <td>PUNJAB</td>\n",
       "      <td>140301</td>\n",
       "      <td>IN</td>\n",
       "      <td>False</td>\n",
       "    </tr>\n",
       "    <tr>\n",
       "      <th>1</th>\n",
       "      <td>2</td>\n",
       "      <td>2183842</td>\n",
       "      <td>Women</td>\n",
       "      <td>29</td>\n",
       "      <td>2022-12-04</td>\n",
       "      <td>Delivered</td>\n",
       "      <td>Ajio</td>\n",
       "      <td>Set</td>\n",
       "      <td>L</td>\n",
       "      <td>1</td>\n",
       "      <td>1449</td>\n",
       "      <td>GURUGRAM</td>\n",
       "      <td>HARYANA</td>\n",
       "      <td>122002</td>\n",
       "      <td>IN</td>\n",
       "      <td>False</td>\n",
       "    </tr>\n",
       "    <tr>\n",
       "      <th>2</th>\n",
       "      <td>3</td>\n",
       "      <td>1641533</td>\n",
       "      <td>Women</td>\n",
       "      <td>67</td>\n",
       "      <td>2022-12-04</td>\n",
       "      <td>Delivered</td>\n",
       "      <td>Myntra</td>\n",
       "      <td>Set</td>\n",
       "      <td>S</td>\n",
       "      <td>1</td>\n",
       "      <td>453</td>\n",
       "      <td>KOLKATA</td>\n",
       "      <td>WEST BENGAL</td>\n",
       "      <td>700029</td>\n",
       "      <td>IN</td>\n",
       "      <td>False</td>\n",
       "    </tr>\n",
       "    <tr>\n",
       "      <th>3</th>\n",
       "      <td>4</td>\n",
       "      <td>7490807</td>\n",
       "      <td>Women</td>\n",
       "      <td>20</td>\n",
       "      <td>2022-12-04</td>\n",
       "      <td>Delivered</td>\n",
       "      <td>Amazon</td>\n",
       "      <td>Set</td>\n",
       "      <td>M</td>\n",
       "      <td>1</td>\n",
       "      <td>729</td>\n",
       "      <td>THANJAVUR</td>\n",
       "      <td>TAMIL NADU</td>\n",
       "      <td>613007</td>\n",
       "      <td>IN</td>\n",
       "      <td>False</td>\n",
       "    </tr>\n",
       "    <tr>\n",
       "      <th>4</th>\n",
       "      <td>5</td>\n",
       "      <td>9293516</td>\n",
       "      <td>Women</td>\n",
       "      <td>62</td>\n",
       "      <td>2022-12-04</td>\n",
       "      <td>Delivered</td>\n",
       "      <td>Myntra</td>\n",
       "      <td>kurta</td>\n",
       "      <td>XXL</td>\n",
       "      <td>1</td>\n",
       "      <td>544</td>\n",
       "      <td>GURUGRAM</td>\n",
       "      <td>HARYANA</td>\n",
       "      <td>122001</td>\n",
       "      <td>IN</td>\n",
       "      <td>False</td>\n",
       "    </tr>\n",
       "    <tr>\n",
       "      <th>...</th>\n",
       "      <td>...</td>\n",
       "      <td>...</td>\n",
       "      <td>...</td>\n",
       "      <td>...</td>\n",
       "      <td>...</td>\n",
       "      <td>...</td>\n",
       "      <td>...</td>\n",
       "      <td>...</td>\n",
       "      <td>...</td>\n",
       "      <td>...</td>\n",
       "      <td>...</td>\n",
       "      <td>...</td>\n",
       "      <td>...</td>\n",
       "      <td>...</td>\n",
       "      <td>...</td>\n",
       "      <td>...</td>\n",
       "    </tr>\n",
       "    <tr>\n",
       "      <th>31042</th>\n",
       "      <td>31043</td>\n",
       "      <td>4724097</td>\n",
       "      <td>Men</td>\n",
       "      <td>60</td>\n",
       "      <td>2022-01-06</td>\n",
       "      <td>Delivered</td>\n",
       "      <td>Flipkart</td>\n",
       "      <td>kurta</td>\n",
       "      <td>XL</td>\n",
       "      <td>1</td>\n",
       "      <td>565</td>\n",
       "      <td>PUNE</td>\n",
       "      <td>MAHARASHTRA</td>\n",
       "      <td>412307</td>\n",
       "      <td>IN</td>\n",
       "      <td>False</td>\n",
       "    </tr>\n",
       "    <tr>\n",
       "      <th>31043</th>\n",
       "      <td>31044</td>\n",
       "      <td>4724097</td>\n",
       "      <td>Men</td>\n",
       "      <td>34</td>\n",
       "      <td>2022-01-06</td>\n",
       "      <td>Delivered</td>\n",
       "      <td>Myntra</td>\n",
       "      <td>Set</td>\n",
       "      <td>S</td>\n",
       "      <td>1</td>\n",
       "      <td>939</td>\n",
       "      <td>BENGALURU</td>\n",
       "      <td>KARNATAKA</td>\n",
       "      <td>560061</td>\n",
       "      <td>IN</td>\n",
       "      <td>False</td>\n",
       "    </tr>\n",
       "    <tr>\n",
       "      <th>31044</th>\n",
       "      <td>31045</td>\n",
       "      <td>3572295</td>\n",
       "      <td>Men</td>\n",
       "      <td>29</td>\n",
       "      <td>2022-01-06</td>\n",
       "      <td>Delivered</td>\n",
       "      <td>Amazon</td>\n",
       "      <td>Set</td>\n",
       "      <td>L</td>\n",
       "      <td>1</td>\n",
       "      <td>1115</td>\n",
       "      <td>PITHORAGARH</td>\n",
       "      <td>UTTARAKHAND</td>\n",
       "      <td>262501</td>\n",
       "      <td>IN</td>\n",
       "      <td>False</td>\n",
       "    </tr>\n",
       "    <tr>\n",
       "      <th>31045</th>\n",
       "      <td>31046</td>\n",
       "      <td>1423498</td>\n",
       "      <td>Men</td>\n",
       "      <td>46</td>\n",
       "      <td>2022-01-06</td>\n",
       "      <td>Delivered</td>\n",
       "      <td>Amazon</td>\n",
       "      <td>kurta</td>\n",
       "      <td>M</td>\n",
       "      <td>1</td>\n",
       "      <td>399</td>\n",
       "      <td>DHULE</td>\n",
       "      <td>MAHARASHTRA</td>\n",
       "      <td>424006</td>\n",
       "      <td>IN</td>\n",
       "      <td>False</td>\n",
       "    </tr>\n",
       "    <tr>\n",
       "      <th>31046</th>\n",
       "      <td>31047</td>\n",
       "      <td>4694875</td>\n",
       "      <td>Men</td>\n",
       "      <td>36</td>\n",
       "      <td>2022-01-06</td>\n",
       "      <td>Delivered</td>\n",
       "      <td>Flipkart</td>\n",
       "      <td>Western Dress</td>\n",
       "      <td>3XL</td>\n",
       "      <td>1</td>\n",
       "      <td>791</td>\n",
       "      <td>WARANGAL</td>\n",
       "      <td>TELANGANA</td>\n",
       "      <td>506001</td>\n",
       "      <td>IN</td>\n",
       "      <td>False</td>\n",
       "    </tr>\n",
       "  </tbody>\n",
       "</table>\n",
       "<p>31047 rows × 16 columns</p>\n",
       "</div>"
      ],
      "text/plain": [
       "       index  Cust ID Gender  Age       Date     Status  Channel   \\\n",
       "0          1  1029312  Women   44 2022-12-04  Delivered    Myntra   \n",
       "1          2  2183842  Women   29 2022-12-04  Delivered      Ajio   \n",
       "2          3  1641533  Women   67 2022-12-04  Delivered    Myntra   \n",
       "3          4  7490807  Women   20 2022-12-04  Delivered    Amazon   \n",
       "4          5  9293516  Women   62 2022-12-04  Delivered    Myntra   \n",
       "...      ...      ...    ...  ...        ...        ...       ...   \n",
       "31042  31043  4724097    Men   60 2022-01-06  Delivered  Flipkart   \n",
       "31043  31044  4724097    Men   34 2022-01-06  Delivered    Myntra   \n",
       "31044  31045  3572295    Men   29 2022-01-06  Delivered    Amazon   \n",
       "31045  31046  1423498    Men   46 2022-01-06  Delivered    Amazon   \n",
       "31046  31047  4694875    Men   36 2022-01-06  Delivered  Flipkart   \n",
       "\n",
       "            Category Size  Qty  Amount    ship-city   ship-state  \\\n",
       "0              kurta  XXL    1     376       MOHALI       PUNJAB   \n",
       "1                Set    L    1    1449     GURUGRAM      HARYANA   \n",
       "2                Set    S    1     453      KOLKATA  WEST BENGAL   \n",
       "3                Set    M    1     729    THANJAVUR   TAMIL NADU   \n",
       "4              kurta  XXL    1     544     GURUGRAM      HARYANA   \n",
       "...              ...  ...  ...     ...          ...          ...   \n",
       "31042          kurta   XL    1     565         PUNE  MAHARASHTRA   \n",
       "31043            Set    S    1     939    BENGALURU    KARNATAKA   \n",
       "31044            Set    L    1    1115  PITHORAGARH  UTTARAKHAND   \n",
       "31045          kurta    M    1     399        DHULE  MAHARASHTRA   \n",
       "31046  Western Dress  3XL    1     791     WARANGAL    TELANGANA   \n",
       "\n",
       "       ship-postal-code ship-country    B2B  \n",
       "0                140301           IN  False  \n",
       "1                122002           IN  False  \n",
       "2                700029           IN  False  \n",
       "3                613007           IN  False  \n",
       "4                122001           IN  False  \n",
       "...                 ...          ...    ...  \n",
       "31042            412307           IN  False  \n",
       "31043            560061           IN  False  \n",
       "31044            262501           IN  False  \n",
       "31045            424006           IN  False  \n",
       "31046            506001           IN  False  \n",
       "\n",
       "[31047 rows x 16 columns]"
      ]
     },
     "execution_count": 18,
     "metadata": {},
     "output_type": "execute_result"
    }
   ],
   "source": [
    "df"
   ]
  },
  {
   "cell_type": "markdown",
   "id": "ebdff792",
   "metadata": {},
   "source": [
    "### Exploratory Data Analysis"
   ]
  },
  {
   "cell_type": "code",
   "execution_count": 19,
   "id": "78d7c169",
   "metadata": {},
   "outputs": [],
   "source": [
    "def age_bracket(age):\n",
    "    if age < 18:\n",
    "        return 'Under 18'\n",
    "    elif age >= 18 and age < 30:\n",
    "        return '18-29'\n",
    "    elif age >= 30 and age < 40:\n",
    "        return '30-39'\n",
    "    elif age >= 40 and age < 50:\n",
    "        return '40-49'\n",
    "    elif age >= 50 and age < 60:\n",
    "        return '50-59'\n",
    "    else:\n",
    "        return '60 and above'\n",
    "    \n",
    "df['Age Bracket'] = df['Age'].apply(age_bracket)"
   ]
  },
  {
   "cell_type": "code",
   "execution_count": 20,
   "id": "e2d4014e",
   "metadata": {},
   "outputs": [
    {
     "data": {
      "text/html": [
       "<div>\n",
       "<style scoped>\n",
       "    .dataframe tbody tr th:only-of-type {\n",
       "        vertical-align: middle;\n",
       "    }\n",
       "\n",
       "    .dataframe tbody tr th {\n",
       "        vertical-align: top;\n",
       "    }\n",
       "\n",
       "    .dataframe thead th {\n",
       "        text-align: right;\n",
       "    }\n",
       "</style>\n",
       "<table border=\"1\" class=\"dataframe\">\n",
       "  <thead>\n",
       "    <tr style=\"text-align: right;\">\n",
       "      <th></th>\n",
       "      <th>index</th>\n",
       "      <th>Cust ID</th>\n",
       "      <th>Gender</th>\n",
       "      <th>Age</th>\n",
       "      <th>Date</th>\n",
       "      <th>Status</th>\n",
       "      <th>Channel</th>\n",
       "      <th>Category</th>\n",
       "      <th>Size</th>\n",
       "      <th>Qty</th>\n",
       "      <th>Amount</th>\n",
       "      <th>ship-city</th>\n",
       "      <th>ship-state</th>\n",
       "      <th>ship-postal-code</th>\n",
       "      <th>ship-country</th>\n",
       "      <th>B2B</th>\n",
       "      <th>Age Bracket</th>\n",
       "    </tr>\n",
       "  </thead>\n",
       "  <tbody>\n",
       "    <tr>\n",
       "      <th>0</th>\n",
       "      <td>1</td>\n",
       "      <td>1029312</td>\n",
       "      <td>Women</td>\n",
       "      <td>44</td>\n",
       "      <td>2022-12-04</td>\n",
       "      <td>Delivered</td>\n",
       "      <td>Myntra</td>\n",
       "      <td>kurta</td>\n",
       "      <td>XXL</td>\n",
       "      <td>1</td>\n",
       "      <td>376</td>\n",
       "      <td>MOHALI</td>\n",
       "      <td>PUNJAB</td>\n",
       "      <td>140301</td>\n",
       "      <td>IN</td>\n",
       "      <td>False</td>\n",
       "      <td>40-49</td>\n",
       "    </tr>\n",
       "    <tr>\n",
       "      <th>1</th>\n",
       "      <td>2</td>\n",
       "      <td>2183842</td>\n",
       "      <td>Women</td>\n",
       "      <td>29</td>\n",
       "      <td>2022-12-04</td>\n",
       "      <td>Delivered</td>\n",
       "      <td>Ajio</td>\n",
       "      <td>Set</td>\n",
       "      <td>L</td>\n",
       "      <td>1</td>\n",
       "      <td>1449</td>\n",
       "      <td>GURUGRAM</td>\n",
       "      <td>HARYANA</td>\n",
       "      <td>122002</td>\n",
       "      <td>IN</td>\n",
       "      <td>False</td>\n",
       "      <td>18-29</td>\n",
       "    </tr>\n",
       "    <tr>\n",
       "      <th>2</th>\n",
       "      <td>3</td>\n",
       "      <td>1641533</td>\n",
       "      <td>Women</td>\n",
       "      <td>67</td>\n",
       "      <td>2022-12-04</td>\n",
       "      <td>Delivered</td>\n",
       "      <td>Myntra</td>\n",
       "      <td>Set</td>\n",
       "      <td>S</td>\n",
       "      <td>1</td>\n",
       "      <td>453</td>\n",
       "      <td>KOLKATA</td>\n",
       "      <td>WEST BENGAL</td>\n",
       "      <td>700029</td>\n",
       "      <td>IN</td>\n",
       "      <td>False</td>\n",
       "      <td>60 and above</td>\n",
       "    </tr>\n",
       "    <tr>\n",
       "      <th>3</th>\n",
       "      <td>4</td>\n",
       "      <td>7490807</td>\n",
       "      <td>Women</td>\n",
       "      <td>20</td>\n",
       "      <td>2022-12-04</td>\n",
       "      <td>Delivered</td>\n",
       "      <td>Amazon</td>\n",
       "      <td>Set</td>\n",
       "      <td>M</td>\n",
       "      <td>1</td>\n",
       "      <td>729</td>\n",
       "      <td>THANJAVUR</td>\n",
       "      <td>TAMIL NADU</td>\n",
       "      <td>613007</td>\n",
       "      <td>IN</td>\n",
       "      <td>False</td>\n",
       "      <td>18-29</td>\n",
       "    </tr>\n",
       "    <tr>\n",
       "      <th>4</th>\n",
       "      <td>5</td>\n",
       "      <td>9293516</td>\n",
       "      <td>Women</td>\n",
       "      <td>62</td>\n",
       "      <td>2022-12-04</td>\n",
       "      <td>Delivered</td>\n",
       "      <td>Myntra</td>\n",
       "      <td>kurta</td>\n",
       "      <td>XXL</td>\n",
       "      <td>1</td>\n",
       "      <td>544</td>\n",
       "      <td>GURUGRAM</td>\n",
       "      <td>HARYANA</td>\n",
       "      <td>122001</td>\n",
       "      <td>IN</td>\n",
       "      <td>False</td>\n",
       "      <td>60 and above</td>\n",
       "    </tr>\n",
       "  </tbody>\n",
       "</table>\n",
       "</div>"
      ],
      "text/plain": [
       "   index  Cust ID Gender  Age       Date     Status Channel  Category Size  \\\n",
       "0      1  1029312  Women   44 2022-12-04  Delivered   Myntra    kurta  XXL   \n",
       "1      2  2183842  Women   29 2022-12-04  Delivered     Ajio      Set    L   \n",
       "2      3  1641533  Women   67 2022-12-04  Delivered   Myntra      Set    S   \n",
       "3      4  7490807  Women   20 2022-12-04  Delivered   Amazon      Set    M   \n",
       "4      5  9293516  Women   62 2022-12-04  Delivered   Myntra    kurta  XXL   \n",
       "\n",
       "   Qty  Amount  ship-city   ship-state  ship-postal-code ship-country    B2B  \\\n",
       "0    1     376     MOHALI       PUNJAB            140301           IN  False   \n",
       "1    1    1449   GURUGRAM      HARYANA            122002           IN  False   \n",
       "2    1     453    KOLKATA  WEST BENGAL            700029           IN  False   \n",
       "3    1     729  THANJAVUR   TAMIL NADU            613007           IN  False   \n",
       "4    1     544   GURUGRAM      HARYANA            122001           IN  False   \n",
       "\n",
       "    Age Bracket  \n",
       "0         40-49  \n",
       "1         18-29  \n",
       "2  60 and above  \n",
       "3         18-29  \n",
       "4  60 and above  "
      ]
     },
     "execution_count": 20,
     "metadata": {},
     "output_type": "execute_result"
    }
   ],
   "source": [
    "df.head(5)"
   ]
  },
  {
   "cell_type": "code",
   "execution_count": 21,
   "id": "22b7d202",
   "metadata": {},
   "outputs": [
    {
     "data": {
      "image/png": "[encoded data removed]",
      "text/plain": [
       "<Figure size 640x480 with 1 Axes>"
      ]
     },
     "metadata": {},
     "output_type": "display_data"
    }
   ],
   "source": [
    "### Distribution of Sales by Age Bracket\n",
    "age_dist = df.groupby(['Age Bracket'])['Amount'].sum().sort_values(ascending = False)\n",
    "age_dist.plot(kind='bar')\n",
    "plt.xlabel('Age Bracket')\n",
    "plt.ylabel('Amount')\n",
    "plt.title('Distribution of Sales by Age Bracket')\n",
    "plt.xticks(rotation=90, ha='right')\n",
    "plt.show()"
   ]
  },
  {
   "cell_type": "code",
   "execution_count": 22,
   "id": "c609c617",
   "metadata": {},
   "outputs": [
    {
     "data": {
      "image/png": "[encoded data removed]",
      "text/plain": [
       "<Figure size 650x350 with 1 Axes>"
      ]
     },
     "metadata": {},
     "output_type": "display_data"
    },
    {
     "data": {
      "text/plain": [
       "Gender\n",
       "Women    13562773\n",
       "Men       7613604\n",
       "Name: Amount, dtype: int64"
      ]
     },
     "execution_count": 22,
     "metadata": {},
     "output_type": "execute_result"
    }
   ],
   "source": [
    "### Distribution of Total Amount by Gender\n",
    "gender_sales=df.groupby(['Gender'])['Amount'].sum().sort_values(ascending = False)\n",
    "fig = plt.figure(figsize =(6.5,3.5))\n",
    "plt.pie(gender_sales , labels = gender_sales.index, autopct='%1.1f%%' )\n",
    "plt.title('Distribution of Total Amount by Gender')\n",
    "plt.show()\n",
    "gender_sales"
   ]
  },
  {
   "cell_type": "code",
   "execution_count": 23,
   "id": "98323f60",
   "metadata": {},
   "outputs": [
    {
     "data": {
      "text/plain": [
       "Gender\n",
       "Men      801.938487\n",
       "Women    629.275414\n",
       "Name: Amount, dtype: float64"
      ]
     },
     "execution_count": 23,
     "metadata": {},
     "output_type": "execute_result"
    }
   ],
   "source": [
    "### who has spent most on an average\n",
    "df.groupby(['Gender'])['Amount'].mean().sort_values(ascending = False)"
   ]
  },
  {
   "cell_type": "code",
   "execution_count": 24,
   "id": "e2b32059",
   "metadata": {},
   "outputs": [
    {
     "data": {
      "text/plain": [
       "Index(['index', 'Cust ID', 'Gender', 'Age', 'Date', 'Status', 'Channel ',\n",
       "       'Category', 'Size', 'Qty', 'Amount', 'ship-city', 'ship-state',\n",
       "       'ship-postal-code', 'ship-country', 'B2B', 'Age Bracket'],\n",
       "      dtype='object')"
      ]
     },
     "execution_count": 24,
     "metadata": {},
     "output_type": "execute_result"
    }
   ],
   "source": [
    "df.columns"
   ]
  },
  {
   "cell_type": "code",
   "execution_count": 25,
   "id": "a9c6693e",
   "metadata": {},
   "outputs": [
    {
     "data": {
      "image/png": "[encoded data removed]",
      "text/plain": [
       "<Figure size 1000x400 with 1 Axes>"
      ]
     },
     "metadata": {},
     "output_type": "display_data"
    }
   ],
   "source": [
    "### Distribution of status of goods sold\n",
    "fig = plt.figure(figsize=(10,4))\n",
    "plt.pie(df['Status'].value_counts(), labels=df['Status'].value_counts().index , autopct='%1.1f%%')\n",
    "plt.title('Distribution of status of goods sold')\n",
    "plt.show()\n",
    "\n"
   ]
  },
  {
   "cell_type": "code",
   "execution_count": 26,
   "id": "bb09428a",
   "metadata": {},
   "outputs": [],
   "source": [
    "df['date'] = pd.to_datetime(df['Date']) \n",
    "df['month_name'] = df['date'].dt.strftime('%B')"
   ]
  },
  {
   "cell_type": "code",
   "execution_count": 27,
   "id": "cf06c031",
   "metadata": {},
   "outputs": [
    {
     "data": {
      "image/png": "[encoded data removed]",
      "text/plain": [
       "<Figure size 1000x400 with 1 Axes>"
      ]
     },
     "metadata": {},
     "output_type": "display_data"
    },
    {
     "data": {
      "text/plain": [
       "month_name\n",
       "August       691.060374\n",
       "October      687.566832\n",
       "July         687.204343\n",
       "May          686.978219\n",
       "March        683.953884\n",
       "February     682.157091\n",
       "April        681.289758\n",
       "December     680.382970\n",
       "September    678.261446\n",
       "November     677.866555\n",
       "June         674.226415\n",
       "January      673.797557\n",
       "Name: Amount, dtype: float64"
      ]
     },
     "execution_count": 27,
     "metadata": {},
     "output_type": "execute_result"
    }
   ],
   "source": [
    "### Month with Max average shopping\n",
    "avg_max_shopping = df. groupby('month_name')['Amount'].mean().sort_values(ascending = False)\n",
    "fig = plt.figure(figsize=(10,4))\n",
    "avg_max_shopping.plot(kind= 'bar')\n",
    "plt.xlabel('Month')\n",
    "plt.ylabel('Mean Amount')\n",
    "plt.title('Average Amount per Month')\n",
    "plt.xticks(rotation=90, ha='right')\n",
    "plt.show()\n",
    "avg_max_shopping\n"
   ]
  },
  {
   "cell_type": "code",
   "execution_count": 28,
   "id": "c8161592",
   "metadata": {},
   "outputs": [],
   "source": [
    "df.rename(columns={'Channel ': 'Channel'}, inplace=True)"
   ]
  },
  {
   "cell_type": "code",
   "execution_count": 29,
   "id": "a178db97",
   "metadata": {},
   "outputs": [
    {
     "data": {
      "image/png": "[encoded data removed]",
      "text/plain": [
       "<Figure size 1000x400 with 2 Axes>"
      ]
     },
     "metadata": {},
     "output_type": "display_data"
    },
    {
     "data": {
      "text/plain": [
       "Channel\n",
       "Amazon      7519933\n",
       "Myntra      4941540\n",
       "Flipkart    4573301\n",
       "Ajio        1331427\n",
       "Nalli       1015329\n",
       "Meesho       927606\n",
       "Others       867241\n",
       "Name: Amount, dtype: int64"
      ]
     },
     "execution_count": 29,
     "metadata": {},
     "output_type": "execute_result"
    }
   ],
   "source": [
    "### Channel that accounts for most revenue\n",
    "fig, (ax1, ax2) = plt.subplots(1, 2, figsize=(10,4))\n",
    "channel_dist = df.groupby(['Channel'])['Amount'].sum().sort_values(ascending=False)\n",
    "channel_dist.plot(kind='bar', ax=ax1)\n",
    "ax1.set_xlabel('Channel')\n",
    "ax1.set_ylabel('Total Amount')\n",
    "ax1.set_title('Channel that accounts for most revenue')\n",
    "ax1.set_xticklabels(channel_dist.index, rotation=90, ha='right')\n",
    "ax2.pie(channel_dist, labels=channel_dist.index, autopct='%1.1f%%')\n",
    "ax2.set_title('Revenue Distribution by Channel')\n",
    "plt.tight_layout()\n",
    "plt.show()\n",
    "channel_dist"
   ]
  },
  {
   "cell_type": "code",
   "execution_count": 30,
   "id": "68d4f50e",
   "metadata": {},
   "outputs": [
    {
     "data": {
      "image/png": "[encoded data removed]",
      "text/plain": [
       "<Figure size 1000x600 with 1 Axes>"
      ]
     },
     "metadata": {},
     "output_type": "display_data"
    },
    {
     "data": {
      "text/plain": [
       "<Figure size 640x480 with 0 Axes>"
      ]
     },
     "metadata": {},
     "output_type": "display_data"
    }
   ],
   "source": [
    "### Total Amount by Gender and Category\n",
    "plt.figure(figsize=(10, 6))\n",
    "sns.barplot(data=df, x='Gender', y='Amount', hue='Category')\n",
    "plt.title('Total Amount by Gender and Category')\n",
    "plt.xlabel('Gender')\n",
    "plt.ylabel('Total Amount')\n",
    "plt.legend(title='Category', loc='upper right', bbox_to_anchor=(1.21, 1))\n",
    "plt.show()\n",
    "plt.tight_layout()\n",
    "# plt.savefig('bar_plot_with_legend.png')"
   ]
  },
  {
   "cell_type": "code",
   "execution_count": 31,
   "id": "ddddf329",
   "metadata": {},
   "outputs": [
    {
     "data": {
      "text/html": [
       "<div>\n",
       "<style scoped>\n",
       "    .dataframe tbody tr th:only-of-type {\n",
       "        vertical-align: middle;\n",
       "    }\n",
       "\n",
       "    .dataframe tbody tr th {\n",
       "        vertical-align: top;\n",
       "    }\n",
       "\n",
       "    .dataframe thead th {\n",
       "        text-align: right;\n",
       "    }\n",
       "</style>\n",
       "<table border=\"1\" class=\"dataframe\">\n",
       "  <thead>\n",
       "    <tr style=\"text-align: right;\">\n",
       "      <th></th>\n",
       "      <th>ship-state</th>\n",
       "      <th>Amount</th>\n",
       "    </tr>\n",
       "  </thead>\n",
       "  <tbody>\n",
       "    <tr>\n",
       "      <th>1</th>\n",
       "      <td>MAHARASHTRA</td>\n",
       "      <td>2990221</td>\n",
       "    </tr>\n",
       "    <tr>\n",
       "      <th>2</th>\n",
       "      <td>KARNATAKA</td>\n",
       "      <td>2646358</td>\n",
       "    </tr>\n",
       "    <tr>\n",
       "      <th>3</th>\n",
       "      <td>UTTAR PRADESH</td>\n",
       "      <td>2104659</td>\n",
       "    </tr>\n",
       "    <tr>\n",
       "      <th>4</th>\n",
       "      <td>TELANGANA</td>\n",
       "      <td>1712439</td>\n",
       "    </tr>\n",
       "    <tr>\n",
       "      <th>5</th>\n",
       "      <td>TAMIL NADU</td>\n",
       "      <td>1678877</td>\n",
       "    </tr>\n",
       "    <tr>\n",
       "      <th>6</th>\n",
       "      <td>DELHI</td>\n",
       "      <td>1248111</td>\n",
       "    </tr>\n",
       "    <tr>\n",
       "      <th>7</th>\n",
       "      <td>KERALA</td>\n",
       "      <td>1008940</td>\n",
       "    </tr>\n",
       "    <tr>\n",
       "      <th>8</th>\n",
       "      <td>WEST BENGAL</td>\n",
       "      <td>922444</td>\n",
       "    </tr>\n",
       "    <tr>\n",
       "      <th>9</th>\n",
       "      <td>ANDHRA PRADESH</td>\n",
       "      <td>918499</td>\n",
       "    </tr>\n",
       "    <tr>\n",
       "      <th>10</th>\n",
       "      <td>HARYANA</td>\n",
       "      <td>813320</td>\n",
       "    </tr>\n",
       "  </tbody>\n",
       "</table>\n",
       "</div>"
      ],
      "text/plain": [
       "        ship-state   Amount\n",
       "1      MAHARASHTRA  2990221\n",
       "2        KARNATAKA  2646358\n",
       "3    UTTAR PRADESH  2104659\n",
       "4        TELANGANA  1712439\n",
       "5       TAMIL NADU  1678877\n",
       "6            DELHI  1248111\n",
       "7           KERALA  1008940\n",
       "8      WEST BENGAL   922444\n",
       "9   ANDHRA PRADESH   918499\n",
       "10         HARYANA   813320"
      ]
     },
     "execution_count": 31,
     "metadata": {},
     "output_type": "execute_result"
    }
   ],
   "source": [
    "### Top 10 states with Max sales\n",
    "state_df = df.groupby(['ship-state'])['Amount'].sum().sort_values(ascending = False).reset_index()\n",
    "state_df.index = range(1, len(state_df) + 1)\n",
    "state_df.head(10)"
   ]
  },
  {
   "cell_type": "code",
   "execution_count": 32,
   "id": "436db294",
   "metadata": {},
   "outputs": [],
   "source": [
    "top_10 = state_df.head(10)"
   ]
  },
  {
   "cell_type": "code",
   "execution_count": 33,
   "id": "a4e07cbc",
   "metadata": {},
   "outputs": [
    {
     "data": {
      "image/png": "[encoded data removed]",
      "text/plain": [
       "<Figure size 640x480 with 1 Axes>"
      ]
     },
     "metadata": {},
     "output_type": "display_data"
    }
   ],
   "source": [
    "fig = plt.figure(figsize= (10,6))\n",
    "top_10.plot(kind= 'bar')\n",
    "plt.xlabel('ship-state')\n",
    "plt.ylabel('Amount')\n",
    "plt.title('Top 10 States with Max Sales')\n",
    "plt.xticks(rotation=90, ha='right')\n",
    "plt.gca().set_xticklabels(top_10['ship-state'])\n",
    "plt.show()"
   ]
  },
  {
   "cell_type": "markdown",
   "id": "d0cdde78",
   "metadata": {},
   "source": [
    "'''\n",
    "Conclusions\n",
    "1. The 18-29 age group leads in sales generation, closely trailed by the 40-49 segment. Targeted strategies for these brackets     can amplify sales impact.\n",
    "\n",
    "2. Gender Preference: Women dominate the shopping landscape with a significant 64% contribution, surpassing men's 36%.\n",
    "   Average Spending: Men exhibit a slightly higher average spending of ₹802, compared to ₹629 among women.\n",
    "   Strategic Insights: To foster balanced growth, there's an opportunity to attract more male customers. Simultaneously,\n",
    "   focusing on enriching women's shopping experience through diverse products and enhanced engagement can further drive \n",
    "   success.\n",
    "   \n",
    "3. \"It's evident that the delivery process was highly efficient, with an impressive 92.3% of orders successfully delivered.         Returns accounted for 3.4% of orders, cancellations stood at 2.7%, and a minor 1.7% were refunded. These statistics             underscore the effectiveness of the order fulfillment system while highlighting areas that could benefit from further           optimization.\"  \n",
    "\n",
    "4.  August, with an average of ₹691.06, leads in monthly shopping, closely followed by October at ₹687.57. Notably, the             consistent average sales throughout the year signify a stable pattern without any outliers.\n",
    "\n",
    "5.  Amazon takes the lead with impressive sales of ₹7,519,933 (35.5%), followed by Myntra and Flipkart, generating revenues of     ₹4,941,540(23.3%) and ₹4,573,301(21.6%), respectively. Therefore, strategic focus should be directed towards listing high-      margin and lower-sales products on Amazon and Myntra to optimize profitability.\n",
    "\n",
    "6.  The 'Set' and 'Western Dress' stand out with the highest sales in each Category of Gender.\n",
    "\n",
    "7.  The top five states contributing to the highest sales are Maharashtra, Karnataka, Uttar Pradesh, Telangana, and Tamil Nadu.     With Maharashtra leading the pack at ₹2,990,221, followed closely by Karnataka with ₹2,646,358 and Uttar Pradesh with           ₹2,104,659. Telangana and Tamil Nadu also make notable contributions with sales figures of ₹1,712,439 and ₹1,678,877           respectively. These states collectively play a pivotal role in driving significant revenue for the business.\n",
    "\n",
    "'''"
   ]
  },
  {
   "cell_type": "code",
   "execution_count": null,
   "id": "ce73f809",
   "metadata": {},
   "outputs": [],
   "source": []
  }
 ],
 "metadata": {
  "kernelspec": {
   "display_name": "Python 3 (ipykernel)",
   "language": "python",
   "name": "python3"
  },
  "language_info": {
   "codemirror_mode": {
    "name": "ipython",
    "version": 3
   },
   "file_extension": ".py",
   "mimetype": "text/x-python",
   "name": "python",
   "nbconvert_exporter": "python",
   "pygments_lexer": "ipython3",
   "version": "3.10.9"
  }
 },
 "nbformat": 4,
 "nbformat_minor": 5
}
